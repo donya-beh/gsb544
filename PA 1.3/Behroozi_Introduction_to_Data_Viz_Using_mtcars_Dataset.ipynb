{
  "cells": [
    {
      "cell_type": "markdown",
      "metadata": {
        "id": "zV7ujxtGAfrV"
      },
      "source": [
        "# Data Visualization Using `plotnine`\n",
        "\n",
        "The Palmer Penguins dataset had a variety of column types with which to explore some nice visualizations. The `mtcars` dataset is another popular dataset for doing some simple data work, but does not contain the same types of variables.\n",
        "\n",
        "Run the following code to load the `mtcars` dataset and explore the observations and variables contained within. To learn more about this dataset check out [this site](https://stat.ethz.ch/R-manual/R-devel/library/datasets/html/mtcars.html)"
      ]
    },
    {
      "cell_type": "code",
      "execution_count": 1,
      "metadata": {
        "id": "q0b5clD3_-9F"
      },
      "outputs": [],
      "source": [
        "import statsmodels.api as sm\n",
        "import pandas as pd\n",
        "\n",
        "mtcars = sm.datasets.get_rdataset(\"mtcars\", \"datasets\", cache=True).data\n",
        "df = pd.DataFrame(mtcars)"
      ]
    },
    {
      "cell_type": "code",
      "execution_count": 2,
      "metadata": {
        "colab": {
          "base_uri": "https://localhost:8080/",
          "height": 1000
        },
        "id": "vOlTRngUAzYl",
        "outputId": "0d3972d4-4cb5-42d8-f03d-cf9f44d90400"
      },
      "outputs": [
        {
          "data": {
            "text/html": [
              "<div>\n",
              "<style scoped>\n",
              "    .dataframe tbody tr th:only-of-type {\n",
              "        vertical-align: middle;\n",
              "    }\n",
              "\n",
              "    .dataframe tbody tr th {\n",
              "        vertical-align: top;\n",
              "    }\n",
              "\n",
              "    .dataframe thead th {\n",
              "        text-align: right;\n",
              "    }\n",
              "</style>\n",
              "<table border=\"1\" class=\"dataframe\">\n",
              "  <thead>\n",
              "    <tr style=\"text-align: right;\">\n",
              "      <th></th>\n",
              "      <th>mpg</th>\n",
              "      <th>cyl</th>\n",
              "      <th>disp</th>\n",
              "      <th>hp</th>\n",
              "      <th>drat</th>\n",
              "      <th>wt</th>\n",
              "      <th>qsec</th>\n",
              "      <th>vs</th>\n",
              "      <th>am</th>\n",
              "      <th>gear</th>\n",
              "      <th>carb</th>\n",
              "    </tr>\n",
              "    <tr>\n",
              "      <th>rownames</th>\n",
              "      <th></th>\n",
              "      <th></th>\n",
              "      <th></th>\n",
              "      <th></th>\n",
              "      <th></th>\n",
              "      <th></th>\n",
              "      <th></th>\n",
              "      <th></th>\n",
              "      <th></th>\n",
              "      <th></th>\n",
              "      <th></th>\n",
              "    </tr>\n",
              "  </thead>\n",
              "  <tbody>\n",
              "    <tr>\n",
              "      <th>Mazda RX4</th>\n",
              "      <td>21.0</td>\n",
              "      <td>6</td>\n",
              "      <td>160.0</td>\n",
              "      <td>110</td>\n",
              "      <td>3.90</td>\n",
              "      <td>2.620</td>\n",
              "      <td>16.46</td>\n",
              "      <td>0</td>\n",
              "      <td>1</td>\n",
              "      <td>4</td>\n",
              "      <td>4</td>\n",
              "    </tr>\n",
              "    <tr>\n",
              "      <th>Mazda RX4 Wag</th>\n",
              "      <td>21.0</td>\n",
              "      <td>6</td>\n",
              "      <td>160.0</td>\n",
              "      <td>110</td>\n",
              "      <td>3.90</td>\n",
              "      <td>2.875</td>\n",
              "      <td>17.02</td>\n",
              "      <td>0</td>\n",
              "      <td>1</td>\n",
              "      <td>4</td>\n",
              "      <td>4</td>\n",
              "    </tr>\n",
              "    <tr>\n",
              "      <th>Datsun 710</th>\n",
              "      <td>22.8</td>\n",
              "      <td>4</td>\n",
              "      <td>108.0</td>\n",
              "      <td>93</td>\n",
              "      <td>3.85</td>\n",
              "      <td>2.320</td>\n",
              "      <td>18.61</td>\n",
              "      <td>1</td>\n",
              "      <td>1</td>\n",
              "      <td>4</td>\n",
              "      <td>1</td>\n",
              "    </tr>\n",
              "    <tr>\n",
              "      <th>Hornet 4 Drive</th>\n",
              "      <td>21.4</td>\n",
              "      <td>6</td>\n",
              "      <td>258.0</td>\n",
              "      <td>110</td>\n",
              "      <td>3.08</td>\n",
              "      <td>3.215</td>\n",
              "      <td>19.44</td>\n",
              "      <td>1</td>\n",
              "      <td>0</td>\n",
              "      <td>3</td>\n",
              "      <td>1</td>\n",
              "    </tr>\n",
              "    <tr>\n",
              "      <th>Hornet Sportabout</th>\n",
              "      <td>18.7</td>\n",
              "      <td>8</td>\n",
              "      <td>360.0</td>\n",
              "      <td>175</td>\n",
              "      <td>3.15</td>\n",
              "      <td>3.440</td>\n",
              "      <td>17.02</td>\n",
              "      <td>0</td>\n",
              "      <td>0</td>\n",
              "      <td>3</td>\n",
              "      <td>2</td>\n",
              "    </tr>\n",
              "    <tr>\n",
              "      <th>Valiant</th>\n",
              "      <td>18.1</td>\n",
              "      <td>6</td>\n",
              "      <td>225.0</td>\n",
              "      <td>105</td>\n",
              "      <td>2.76</td>\n",
              "      <td>3.460</td>\n",
              "      <td>20.22</td>\n",
              "      <td>1</td>\n",
              "      <td>0</td>\n",
              "      <td>3</td>\n",
              "      <td>1</td>\n",
              "    </tr>\n",
              "    <tr>\n",
              "      <th>Duster 360</th>\n",
              "      <td>14.3</td>\n",
              "      <td>8</td>\n",
              "      <td>360.0</td>\n",
              "      <td>245</td>\n",
              "      <td>3.21</td>\n",
              "      <td>3.570</td>\n",
              "      <td>15.84</td>\n",
              "      <td>0</td>\n",
              "      <td>0</td>\n",
              "      <td>3</td>\n",
              "      <td>4</td>\n",
              "    </tr>\n",
              "    <tr>\n",
              "      <th>Merc 240D</th>\n",
              "      <td>24.4</td>\n",
              "      <td>4</td>\n",
              "      <td>146.7</td>\n",
              "      <td>62</td>\n",
              "      <td>3.69</td>\n",
              "      <td>3.190</td>\n",
              "      <td>20.00</td>\n",
              "      <td>1</td>\n",
              "      <td>0</td>\n",
              "      <td>4</td>\n",
              "      <td>2</td>\n",
              "    </tr>\n",
              "    <tr>\n",
              "      <th>Merc 230</th>\n",
              "      <td>22.8</td>\n",
              "      <td>4</td>\n",
              "      <td>140.8</td>\n",
              "      <td>95</td>\n",
              "      <td>3.92</td>\n",
              "      <td>3.150</td>\n",
              "      <td>22.90</td>\n",
              "      <td>1</td>\n",
              "      <td>0</td>\n",
              "      <td>4</td>\n",
              "      <td>2</td>\n",
              "    </tr>\n",
              "    <tr>\n",
              "      <th>Merc 280</th>\n",
              "      <td>19.2</td>\n",
              "      <td>6</td>\n",
              "      <td>167.6</td>\n",
              "      <td>123</td>\n",
              "      <td>3.92</td>\n",
              "      <td>3.440</td>\n",
              "      <td>18.30</td>\n",
              "      <td>1</td>\n",
              "      <td>0</td>\n",
              "      <td>4</td>\n",
              "      <td>4</td>\n",
              "    </tr>\n",
              "    <tr>\n",
              "      <th>Merc 280C</th>\n",
              "      <td>17.8</td>\n",
              "      <td>6</td>\n",
              "      <td>167.6</td>\n",
              "      <td>123</td>\n",
              "      <td>3.92</td>\n",
              "      <td>3.440</td>\n",
              "      <td>18.90</td>\n",
              "      <td>1</td>\n",
              "      <td>0</td>\n",
              "      <td>4</td>\n",
              "      <td>4</td>\n",
              "    </tr>\n",
              "    <tr>\n",
              "      <th>Merc 450SE</th>\n",
              "      <td>16.4</td>\n",
              "      <td>8</td>\n",
              "      <td>275.8</td>\n",
              "      <td>180</td>\n",
              "      <td>3.07</td>\n",
              "      <td>4.070</td>\n",
              "      <td>17.40</td>\n",
              "      <td>0</td>\n",
              "      <td>0</td>\n",
              "      <td>3</td>\n",
              "      <td>3</td>\n",
              "    </tr>\n",
              "    <tr>\n",
              "      <th>Merc 450SL</th>\n",
              "      <td>17.3</td>\n",
              "      <td>8</td>\n",
              "      <td>275.8</td>\n",
              "      <td>180</td>\n",
              "      <td>3.07</td>\n",
              "      <td>3.730</td>\n",
              "      <td>17.60</td>\n",
              "      <td>0</td>\n",
              "      <td>0</td>\n",
              "      <td>3</td>\n",
              "      <td>3</td>\n",
              "    </tr>\n",
              "    <tr>\n",
              "      <th>Merc 450SLC</th>\n",
              "      <td>15.2</td>\n",
              "      <td>8</td>\n",
              "      <td>275.8</td>\n",
              "      <td>180</td>\n",
              "      <td>3.07</td>\n",
              "      <td>3.780</td>\n",
              "      <td>18.00</td>\n",
              "      <td>0</td>\n",
              "      <td>0</td>\n",
              "      <td>3</td>\n",
              "      <td>3</td>\n",
              "    </tr>\n",
              "    <tr>\n",
              "      <th>Cadillac Fleetwood</th>\n",
              "      <td>10.4</td>\n",
              "      <td>8</td>\n",
              "      <td>472.0</td>\n",
              "      <td>205</td>\n",
              "      <td>2.93</td>\n",
              "      <td>5.250</td>\n",
              "      <td>17.98</td>\n",
              "      <td>0</td>\n",
              "      <td>0</td>\n",
              "      <td>3</td>\n",
              "      <td>4</td>\n",
              "    </tr>\n",
              "    <tr>\n",
              "      <th>Lincoln Continental</th>\n",
              "      <td>10.4</td>\n",
              "      <td>8</td>\n",
              "      <td>460.0</td>\n",
              "      <td>215</td>\n",
              "      <td>3.00</td>\n",
              "      <td>5.424</td>\n",
              "      <td>17.82</td>\n",
              "      <td>0</td>\n",
              "      <td>0</td>\n",
              "      <td>3</td>\n",
              "      <td>4</td>\n",
              "    </tr>\n",
              "    <tr>\n",
              "      <th>Chrysler Imperial</th>\n",
              "      <td>14.7</td>\n",
              "      <td>8</td>\n",
              "      <td>440.0</td>\n",
              "      <td>230</td>\n",
              "      <td>3.23</td>\n",
              "      <td>5.345</td>\n",
              "      <td>17.42</td>\n",
              "      <td>0</td>\n",
              "      <td>0</td>\n",
              "      <td>3</td>\n",
              "      <td>4</td>\n",
              "    </tr>\n",
              "    <tr>\n",
              "      <th>Fiat 128</th>\n",
              "      <td>32.4</td>\n",
              "      <td>4</td>\n",
              "      <td>78.7</td>\n",
              "      <td>66</td>\n",
              "      <td>4.08</td>\n",
              "      <td>2.200</td>\n",
              "      <td>19.47</td>\n",
              "      <td>1</td>\n",
              "      <td>1</td>\n",
              "      <td>4</td>\n",
              "      <td>1</td>\n",
              "    </tr>\n",
              "    <tr>\n",
              "      <th>Honda Civic</th>\n",
              "      <td>30.4</td>\n",
              "      <td>4</td>\n",
              "      <td>75.7</td>\n",
              "      <td>52</td>\n",
              "      <td>4.93</td>\n",
              "      <td>1.615</td>\n",
              "      <td>18.52</td>\n",
              "      <td>1</td>\n",
              "      <td>1</td>\n",
              "      <td>4</td>\n",
              "      <td>2</td>\n",
              "    </tr>\n",
              "    <tr>\n",
              "      <th>Toyota Corolla</th>\n",
              "      <td>33.9</td>\n",
              "      <td>4</td>\n",
              "      <td>71.1</td>\n",
              "      <td>65</td>\n",
              "      <td>4.22</td>\n",
              "      <td>1.835</td>\n",
              "      <td>19.90</td>\n",
              "      <td>1</td>\n",
              "      <td>1</td>\n",
              "      <td>4</td>\n",
              "      <td>1</td>\n",
              "    </tr>\n",
              "    <tr>\n",
              "      <th>Toyota Corona</th>\n",
              "      <td>21.5</td>\n",
              "      <td>4</td>\n",
              "      <td>120.1</td>\n",
              "      <td>97</td>\n",
              "      <td>3.70</td>\n",
              "      <td>2.465</td>\n",
              "      <td>20.01</td>\n",
              "      <td>1</td>\n",
              "      <td>0</td>\n",
              "      <td>3</td>\n",
              "      <td>1</td>\n",
              "    </tr>\n",
              "    <tr>\n",
              "      <th>Dodge Challenger</th>\n",
              "      <td>15.5</td>\n",
              "      <td>8</td>\n",
              "      <td>318.0</td>\n",
              "      <td>150</td>\n",
              "      <td>2.76</td>\n",
              "      <td>3.520</td>\n",
              "      <td>16.87</td>\n",
              "      <td>0</td>\n",
              "      <td>0</td>\n",
              "      <td>3</td>\n",
              "      <td>2</td>\n",
              "    </tr>\n",
              "    <tr>\n",
              "      <th>AMC Javelin</th>\n",
              "      <td>15.2</td>\n",
              "      <td>8</td>\n",
              "      <td>304.0</td>\n",
              "      <td>150</td>\n",
              "      <td>3.15</td>\n",
              "      <td>3.435</td>\n",
              "      <td>17.30</td>\n",
              "      <td>0</td>\n",
              "      <td>0</td>\n",
              "      <td>3</td>\n",
              "      <td>2</td>\n",
              "    </tr>\n",
              "    <tr>\n",
              "      <th>Camaro Z28</th>\n",
              "      <td>13.3</td>\n",
              "      <td>8</td>\n",
              "      <td>350.0</td>\n",
              "      <td>245</td>\n",
              "      <td>3.73</td>\n",
              "      <td>3.840</td>\n",
              "      <td>15.41</td>\n",
              "      <td>0</td>\n",
              "      <td>0</td>\n",
              "      <td>3</td>\n",
              "      <td>4</td>\n",
              "    </tr>\n",
              "    <tr>\n",
              "      <th>Pontiac Firebird</th>\n",
              "      <td>19.2</td>\n",
              "      <td>8</td>\n",
              "      <td>400.0</td>\n",
              "      <td>175</td>\n",
              "      <td>3.08</td>\n",
              "      <td>3.845</td>\n",
              "      <td>17.05</td>\n",
              "      <td>0</td>\n",
              "      <td>0</td>\n",
              "      <td>3</td>\n",
              "      <td>2</td>\n",
              "    </tr>\n",
              "    <tr>\n",
              "      <th>Fiat X1-9</th>\n",
              "      <td>27.3</td>\n",
              "      <td>4</td>\n",
              "      <td>79.0</td>\n",
              "      <td>66</td>\n",
              "      <td>4.08</td>\n",
              "      <td>1.935</td>\n",
              "      <td>18.90</td>\n",
              "      <td>1</td>\n",
              "      <td>1</td>\n",
              "      <td>4</td>\n",
              "      <td>1</td>\n",
              "    </tr>\n",
              "    <tr>\n",
              "      <th>Porsche 914-2</th>\n",
              "      <td>26.0</td>\n",
              "      <td>4</td>\n",
              "      <td>120.3</td>\n",
              "      <td>91</td>\n",
              "      <td>4.43</td>\n",
              "      <td>2.140</td>\n",
              "      <td>16.70</td>\n",
              "      <td>0</td>\n",
              "      <td>1</td>\n",
              "      <td>5</td>\n",
              "      <td>2</td>\n",
              "    </tr>\n",
              "    <tr>\n",
              "      <th>Lotus Europa</th>\n",
              "      <td>30.4</td>\n",
              "      <td>4</td>\n",
              "      <td>95.1</td>\n",
              "      <td>113</td>\n",
              "      <td>3.77</td>\n",
              "      <td>1.513</td>\n",
              "      <td>16.90</td>\n",
              "      <td>1</td>\n",
              "      <td>1</td>\n",
              "      <td>5</td>\n",
              "      <td>2</td>\n",
              "    </tr>\n",
              "    <tr>\n",
              "      <th>Ford Pantera L</th>\n",
              "      <td>15.8</td>\n",
              "      <td>8</td>\n",
              "      <td>351.0</td>\n",
              "      <td>264</td>\n",
              "      <td>4.22</td>\n",
              "      <td>3.170</td>\n",
              "      <td>14.50</td>\n",
              "      <td>0</td>\n",
              "      <td>1</td>\n",
              "      <td>5</td>\n",
              "      <td>4</td>\n",
              "    </tr>\n",
              "    <tr>\n",
              "      <th>Ferrari Dino</th>\n",
              "      <td>19.7</td>\n",
              "      <td>6</td>\n",
              "      <td>145.0</td>\n",
              "      <td>175</td>\n",
              "      <td>3.62</td>\n",
              "      <td>2.770</td>\n",
              "      <td>15.50</td>\n",
              "      <td>0</td>\n",
              "      <td>1</td>\n",
              "      <td>5</td>\n",
              "      <td>6</td>\n",
              "    </tr>\n",
              "    <tr>\n",
              "      <th>Maserati Bora</th>\n",
              "      <td>15.0</td>\n",
              "      <td>8</td>\n",
              "      <td>301.0</td>\n",
              "      <td>335</td>\n",
              "      <td>3.54</td>\n",
              "      <td>3.570</td>\n",
              "      <td>14.60</td>\n",
              "      <td>0</td>\n",
              "      <td>1</td>\n",
              "      <td>5</td>\n",
              "      <td>8</td>\n",
              "    </tr>\n",
              "    <tr>\n",
              "      <th>Volvo 142E</th>\n",
              "      <td>21.4</td>\n",
              "      <td>4</td>\n",
              "      <td>121.0</td>\n",
              "      <td>109</td>\n",
              "      <td>4.11</td>\n",
              "      <td>2.780</td>\n",
              "      <td>18.60</td>\n",
              "      <td>1</td>\n",
              "      <td>1</td>\n",
              "      <td>4</td>\n",
              "      <td>2</td>\n",
              "    </tr>\n",
              "  </tbody>\n",
              "</table>\n",
              "</div>"
            ],
            "text/plain": [
              "                      mpg  cyl   disp   hp  drat     wt   qsec  vs  am  gear  carb\n",
              "rownames                                                                          \n",
              "Mazda RX4            21.0    6  160.0  110  3.90  2.620  16.46   0   1     4     4\n",
              "Mazda RX4 Wag        21.0    6  160.0  110  3.90  2.875  17.02   0   1     4     4\n",
              "Datsun 710           22.8    4  108.0   93  3.85  2.320  18.61   1   1     4     1\n",
              "Hornet 4 Drive       21.4    6  258.0  110  3.08  3.215  19.44   1   0     3     1\n",
              "Hornet Sportabout    18.7    8  360.0  175  3.15  3.440  17.02   0   0     3     2\n",
              "Valiant              18.1    6  225.0  105  2.76  3.460  20.22   1   0     3     1\n",
              "Duster 360           14.3    8  360.0  245  3.21  3.570  15.84   0   0     3     4\n",
              "Merc 240D            24.4    4  146.7   62  3.69  3.190  20.00   1   0     4     2\n",
              "Merc 230             22.8    4  140.8   95  3.92  3.150  22.90   1   0     4     2\n",
              "Merc 280             19.2    6  167.6  123  3.92  3.440  18.30   1   0     4     4\n",
              "Merc 280C            17.8    6  167.6  123  3.92  3.440  18.90   1   0     4     4\n",
              "Merc 450SE           16.4    8  275.8  180  3.07  4.070  17.40   0   0     3     3\n",
              "Merc 450SL           17.3    8  275.8  180  3.07  3.730  17.60   0   0     3     3\n",
              "Merc 450SLC          15.2    8  275.8  180  3.07  3.780  18.00   0   0     3     3\n",
              "Cadillac Fleetwood   10.4    8  472.0  205  2.93  5.250  17.98   0   0     3     4\n",
              "Lincoln Continental  10.4    8  460.0  215  3.00  5.424  17.82   0   0     3     4\n",
              "Chrysler Imperial    14.7    8  440.0  230  3.23  5.345  17.42   0   0     3     4\n",
              "Fiat 128             32.4    4   78.7   66  4.08  2.200  19.47   1   1     4     1\n",
              "Honda Civic          30.4    4   75.7   52  4.93  1.615  18.52   1   1     4     2\n",
              "Toyota Corolla       33.9    4   71.1   65  4.22  1.835  19.90   1   1     4     1\n",
              "Toyota Corona        21.5    4  120.1   97  3.70  2.465  20.01   1   0     3     1\n",
              "Dodge Challenger     15.5    8  318.0  150  2.76  3.520  16.87   0   0     3     2\n",
              "AMC Javelin          15.2    8  304.0  150  3.15  3.435  17.30   0   0     3     2\n",
              "Camaro Z28           13.3    8  350.0  245  3.73  3.840  15.41   0   0     3     4\n",
              "Pontiac Firebird     19.2    8  400.0  175  3.08  3.845  17.05   0   0     3     2\n",
              "Fiat X1-9            27.3    4   79.0   66  4.08  1.935  18.90   1   1     4     1\n",
              "Porsche 914-2        26.0    4  120.3   91  4.43  2.140  16.70   0   1     5     2\n",
              "Lotus Europa         30.4    4   95.1  113  3.77  1.513  16.90   1   1     5     2\n",
              "Ford Pantera L       15.8    8  351.0  264  4.22  3.170  14.50   0   1     5     4\n",
              "Ferrari Dino         19.7    6  145.0  175  3.62  2.770  15.50   0   1     5     6\n",
              "Maserati Bora        15.0    8  301.0  335  3.54  3.570  14.60   0   1     5     8\n",
              "Volvo 142E           21.4    4  121.0  109  4.11  2.780  18.60   1   1     4     2"
            ]
          },
          "execution_count": null,
          "metadata": {},
          "output_type": "execute_result"
        }
      ],
      "source": [
        "df"
      ]
    },
    {
      "cell_type": "markdown",
      "metadata": {
        "id": "NwxcO-KzCE6r"
      },
      "source": [
        "The statement \"the `mtcars` dataset does not contain the same types of variables as the penguins dataset\" is a little true and a little false. There are no variables that contain text values, BUT there are variables that it makes sense to consider categorical variables. In most situations, it makes sense to treat the values of categorical variables as text values instead of numeric values.\n",
        "\n",
        "Use the `astype()` method to convert the categorical variables of the `mtcars` (df) dataset to have text values in the code chunk below. We've done one for you!"
      ]
    },
    {
      "cell_type": "code",
      "execution_count": 3,
      "metadata": {
        "id": "EmsJ2z6QCtYH"
      },
      "outputs": [],
      "source": [
        "df[\"am\"] = df[\"am\"].astype(str)\n",
        "\n",
        "# Convert the other variables below\n",
        "df[\"vs\"] = df[\"vs\"].astype(str)\n",
        "\n",
        "df[\"cyl\"] = df[\"cyl\"].astype(str)\n",
        "\n",
        "df[\"gear\"] = df[\"gear\"].astype(str)\n",
        "\n",
        "df[\"carb\"] = df[\"carb\"].astype(str)"
      ]
    },
    {
      "cell_type": "code",
      "execution_count": 4,
      "metadata": {
        "colab": {
          "base_uri": "https://localhost:8080/"
        },
        "id": "kGiRGJAsw6E1",
        "outputId": "5709c834-2a33-409f-b378-5bbaf5c2f324"
      },
      "outputs": [
        {
          "name": "stdout",
          "output_type": "stream",
          "text": [
            "                      mpg cyl   disp   hp  drat     wt   qsec vs am gear carb\n",
            "rownames                                                                     \n",
            "Mazda RX4            21.0   6  160.0  110  3.90  2.620  16.46  0  1    4    4\n",
            "Mazda RX4 Wag        21.0   6  160.0  110  3.90  2.875  17.02  0  1    4    4\n",
            "Datsun 710           22.8   4  108.0   93  3.85  2.320  18.61  1  1    4    1\n",
            "Hornet 4 Drive       21.4   6  258.0  110  3.08  3.215  19.44  1  0    3    1\n",
            "Hornet Sportabout    18.7   8  360.0  175  3.15  3.440  17.02  0  0    3    2\n",
            "Valiant              18.1   6  225.0  105  2.76  3.460  20.22  1  0    3    1\n",
            "Duster 360           14.3   8  360.0  245  3.21  3.570  15.84  0  0    3    4\n",
            "Merc 240D            24.4   4  146.7   62  3.69  3.190  20.00  1  0    4    2\n",
            "Merc 230             22.8   4  140.8   95  3.92  3.150  22.90  1  0    4    2\n",
            "Merc 280             19.2   6  167.6  123  3.92  3.440  18.30  1  0    4    4\n",
            "Merc 280C            17.8   6  167.6  123  3.92  3.440  18.90  1  0    4    4\n",
            "Merc 450SE           16.4   8  275.8  180  3.07  4.070  17.40  0  0    3    3\n",
            "Merc 450SL           17.3   8  275.8  180  3.07  3.730  17.60  0  0    3    3\n",
            "Merc 450SLC          15.2   8  275.8  180  3.07  3.780  18.00  0  0    3    3\n",
            "Cadillac Fleetwood   10.4   8  472.0  205  2.93  5.250  17.98  0  0    3    4\n",
            "Lincoln Continental  10.4   8  460.0  215  3.00  5.424  17.82  0  0    3    4\n",
            "Chrysler Imperial    14.7   8  440.0  230  3.23  5.345  17.42  0  0    3    4\n",
            "Fiat 128             32.4   4   78.7   66  4.08  2.200  19.47  1  1    4    1\n",
            "Honda Civic          30.4   4   75.7   52  4.93  1.615  18.52  1  1    4    2\n",
            "Toyota Corolla       33.9   4   71.1   65  4.22  1.835  19.90  1  1    4    1\n",
            "Toyota Corona        21.5   4  120.1   97  3.70  2.465  20.01  1  0    3    1\n",
            "Dodge Challenger     15.5   8  318.0  150  2.76  3.520  16.87  0  0    3    2\n",
            "AMC Javelin          15.2   8  304.0  150  3.15  3.435  17.30  0  0    3    2\n",
            "Camaro Z28           13.3   8  350.0  245  3.73  3.840  15.41  0  0    3    4\n",
            "Pontiac Firebird     19.2   8  400.0  175  3.08  3.845  17.05  0  0    3    2\n",
            "Fiat X1-9            27.3   4   79.0   66  4.08  1.935  18.90  1  1    4    1\n",
            "Porsche 914-2        26.0   4  120.3   91  4.43  2.140  16.70  0  1    5    2\n",
            "Lotus Europa         30.4   4   95.1  113  3.77  1.513  16.90  1  1    5    2\n",
            "Ford Pantera L       15.8   8  351.0  264  4.22  3.170  14.50  0  1    5    4\n",
            "Ferrari Dino         19.7   6  145.0  175  3.62  2.770  15.50  0  1    5    6\n",
            "Maserati Bora        15.0   8  301.0  335  3.54  3.570  14.60  0  1    5    8\n",
            "Volvo 142E           21.4   4  121.0  109  4.11  2.780  18.60  1  1    4    2\n",
            "mpg     float64\n",
            "cyl      object\n",
            "disp    float64\n",
            "hp        int64\n",
            "drat    float64\n",
            "wt      float64\n",
            "qsec    float64\n",
            "vs       object\n",
            "am       object\n",
            "gear     object\n",
            "carb     object\n",
            "dtype: object\n"
          ]
        }
      ],
      "source": [
        "print(df)\n",
        "print(df.dtypes)"
      ]
    },
    {
      "cell_type": "markdown",
      "metadata": {
        "id": "5CPc3XQsEOkS"
      },
      "source": [
        "If you print out your new dataset, is it clear that the variables have been converted to text values? If so, how can you tell?\n",
        "\n",
        "It does not seem very clear to be that the the variables have been converted to text values. Personally, I would want to double check the variables types to make sure the conversion to string worked.\n",
        "\n",
        "It should also be clear by how `plotnine` treats these variables.\n",
        "\n",
        "1. Create side-by-side boxplots of the `mpg` variable by the different values of the `am` variable. What happens if you convert the `am` variable back to float values and then try to create this same plot? Explain the differences between the two plots.\n",
        "\n",
        "Instead of creating side by side plots, converting the `am` variable to float values makes one large boxplot that ranges on the x-axis from 0 to 1. When the `am` variable is treated as a categorical variable, the values of 0 and 1 for the variable are treated as dichotomous values with two separate distributions of miles per gallon, not a range of values from 0 to 1.\n",
        "\n",
        "2. Create overlaid histograms of the `hp` variable for the different values of the `cyl` variable. What happens if you convert the `cyl` variable back to float values and then try to create this same plot? Explain the differences between the two plots.\n",
        "\n",
        "When `cyl` is treated as a categorical variable, the visualization shows multiple histograms of `hp` for each value of `cyl` (4,6,8). If `cyl` is converted back to a float type, the visualization does not include the variable in the visualization."
      ]
    },
    {
      "cell_type": "code",
      "execution_count": 5,
      "metadata": {
        "colab": {
          "base_uri": "https://localhost:8080/",
          "height": 497
        },
        "id": "THEeMPRDDc9y",
        "outputId": "18057668-fb30-4269-82c4-89f584555c5f"
      },
      "outputs": [
        {
          "data": {
            "image/png": "[encoded data removed]",
            "text/plain": [
              "<Figure size 640x480 with 1 Axes>"
            ]
          },
          "metadata": {},
          "output_type": "display_data"
        }
      ],
      "source": [
        "# Create plot for (1) here - am as categorical variable\n",
        "from plotnine import ggplot, geom_point, aes, geom_boxplot, geom_histogram\n",
        "(ggplot(df,\n",
        "        aes(\n",
        "            x = \"am\",\n",
        "            y = \"mpg\",\n",
        "            fill = \"am\"\n",
        "        )) +\n",
        " geom_boxplot()\n",
        " )"
      ]
    },
    {
      "cell_type": "code",
      "execution_count": 6,
      "metadata": {
        "colab": {
          "base_uri": "https://localhost:8080/",
          "height": 497
        },
        "id": "GfmfRXWrhDoN",
        "outputId": "daf5071f-3c81-46bf-f402-ce9f673ae499"
      },
      "outputs": [
        {
          "data": {
            "image/png": "[encoded data removed]",
            "text/plain": [
              "<Figure size 640x480 with 1 Axes>"
            ]
          },
          "metadata": {},
          "output_type": "display_data"
        }
      ],
      "source": [
        "# Create plot for (1) here - am as float values\n",
        "df[\"am\"] = df[\"am\"].astype(float)\n",
        "\n",
        "(ggplot(df,\n",
        "        aes(\n",
        "            x = \"am\",\n",
        "            y = \"mpg\",\n",
        "            fill = \"am\"\n",
        "        )) +\n",
        " geom_boxplot()\n",
        " )"
      ]
    },
    {
      "cell_type": "code",
      "execution_count": 7,
      "metadata": {
        "colab": {
          "base_uri": "https://localhost:8080/",
          "height": 535
        },
        "id": "Y6qca7yKFWqZ",
        "outputId": "e6dd2120-02fb-4b42-f75b-3f001b22f2c6"
      },
      "outputs": [
        {
          "name": "stderr",
          "output_type": "stream",
          "text": [
            "/Users/donyabehroozi/opt/anaconda3/lib/python3.13/site-packages/plotnine/stats/stat_bin.py:112: PlotnineWarning: 'stat_bin()' using 'bins = 6'. Pick better value with 'binwidth'.\n"
          ]
        },
        {
          "data": {
            "image/png": "[encoded data removed]",
            "text/plain": [
              "<Figure size 640x480 with 1 Axes>"
            ]
          },
          "metadata": {},
          "output_type": "display_data"
        }
      ],
      "source": [
        "# Create plot for (2) here - cyl as categorical variable\n",
        "(ggplot(df,\n",
        "        aes(\n",
        "            x = \"hp\",\n",
        "            fill = \"cyl\"\n",
        "        ))\n",
        "+ geom_histogram()\n",
        ")"
      ]
    },
    {
      "cell_type": "code",
      "execution_count": 8,
      "metadata": {
        "colab": {
          "base_uri": "https://localhost:8080/",
          "height": 515
        },
        "id": "7mT18GrkjDzp",
        "outputId": "3973eb31-8cfa-4c78-cd2a-4598d91e766a"
      },
      "outputs": [
        {
          "name": "stderr",
          "output_type": "stream",
          "text": [
            "/Users/donyabehroozi/opt/anaconda3/lib/python3.13/site-packages/plotnine/stats/stat_bin.py:112: PlotnineWarning: 'stat_bin()' using 'bins = 6'. Pick better value with 'binwidth'.\n"
          ]
        },
        {
          "data": {
            "image/png": "[encoded data removed]",
            "text/plain": [
              "<Figure size 640x480 with 1 Axes>"
            ]
          },
          "metadata": {},
          "output_type": "display_data"
        }
      ],
      "source": [
        "# Create plot for (2) here - cyl as float variable\n",
        "df[\"cyl\"] = df[\"cyl\"].astype(float)\n",
        "\n",
        "(ggplot(df,\n",
        "        aes(\n",
        "            x = \"hp\",\n",
        "            fill = \"cyl\"\n",
        "        ))\n",
        "+ geom_histogram()\n",
        ")"
      ]
    },
    {
      "cell_type": "markdown",
      "metadata": {
        "id": "sI9g0Br1Fbcp"
      },
      "source": [
        "Some of these variables, like the `cyl` variable, have numeric values that actually make sense as numbers (i.e. the number of cylinders in the engine). However, it doesn't make the most sense to \"do math\" with this type of variable (e.g. take averages and such) because there are so few different value this can take on AND they're an explicit choice made by the car manufacturer. So, it makes more sense to treat the `cyl` variable as a categorical variable despite it having numeric values.\n",
        "\n",
        "You will need to keep these kinds of nuances about data in mind as you work with an increasing variety and richness of data, and do more complex things with them.\n",
        "\n",
        "Choose 3 new `geometries` from the [data-to-viz website](https://www.data-to-viz.com/) for graphs that you'd like to explore using the `mtcars` dataset, and then create those graphs!"
      ]
    },
    {
      "cell_type": "code",
      "execution_count": 9,
      "metadata": {
        "colab": {
          "base_uri": "https://localhost:8080/",
          "height": 497
        },
        "id": "ZxVdZRFgGn4R",
        "outputId": "46a8c239-4dda-4293-dcdc-d712180db7f1"
      },
      "outputs": [
        {
          "data": {
            "image/png": "[encoded data removed]",
            "text/plain": [
              "<Figure size 640x480 with 1 Axes>"
            ]
          },
          "metadata": {},
          "output_type": "display_data"
        }
      ],
      "source": [
        "# Create plot with first new geometry here - scatter plot of mpg by horsepower\n",
        "from plotnine import geom_point, labs\n",
        "\n",
        "(ggplot(df,\n",
        "    aes(\n",
        "        x = \"hp\",\n",
        "        y = \"mpg\"\n",
        "    ))\n",
        "+ geom_point()\n",
        "+ labs(x = \"Gross Horsepower\", y = \"Miles per Gallon\", title = \"Scatter Plot of MPG vs. Gross Horsepower\"))"
      ]
    },
    {
      "cell_type": "code",
      "execution_count": 10,
      "metadata": {
        "colab": {
          "base_uri": "https://localhost:8080/",
          "height": 497
        },
        "id": "kmOlGxZwGoC5",
        "outputId": "1389b279-118b-4661-c604-9debbf5076ee"
      },
      "outputs": [
        {
          "data": {
            "image/png": "[encoded data removed]",
            "text/plain": [
              "<Figure size 640x480 with 1 Axes>"
            ]
          },
          "metadata": {},
          "output_type": "display_data"
        }
      ],
      "source": [
        "# Create plot with second new geometry here - density plot of hp by am\n",
        "from plotnine import geom_density\n",
        "\n",
        "(ggplot(df,\n",
        "        aes(\n",
        "            x = \"hp\",\n",
        "            fill = \"am\"\n",
        "        ))\n",
        "+ geom_density(alpha = 0.5)\n",
        "+ labs(title = \"Distribution of Gross Horsepower by Transmission\"))"
      ]
    },
    {
      "cell_type": "code",
      "execution_count": 11,
      "metadata": {
        "colab": {
          "base_uri": "https://localhost:8080/",
          "height": 497
        },
        "id": "8CppN1zeGoKr",
        "outputId": "58e11ea2-5f86-45c4-c640-590261b8cade"
      },
      "outputs": [
        {
          "data": {
            "image/png": "[encoded data removed]",
            "text/plain": [
              "<Figure size 640x480 with 1 Axes>"
            ]
          },
          "metadata": {},
          "output_type": "display_data"
        }
      ],
      "source": [
        "# Create plot with third new geometry here - bar plot of am and vs\n",
        "from plotnine import geom_bar\n",
        "\n",
        "(ggplot(df,\n",
        "        aes(\n",
        "            x = \"am\",\n",
        "        ))\n",
        "+ geom_bar(fill = \"cornflowerblue\")\n",
        "+ labs(x = \"Transmission (0 = automatic, 1 = manual)\",\n",
        "       title = \"Count of Transmission Types\"))"
      ]
    }
  ],
  "metadata": {
    "colab": {
      "provenance": []
    },
    "kernelspec": {
      "display_name": "Python 3",
      "name": "python3"
    },
    "language_info": {
      "name": "python"
    }
  },
  "nbformat": 4,
  "nbformat_minor": 0
}
